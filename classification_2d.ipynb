{
  "nbformat": 4,
  "nbformat_minor": 0,
  "metadata": {
    "colab": {
      "name": "classification_2d.ipynb",
      "provenance": [],
      "authorship_tag": "ABX9TyMGw9KOgORT/74LeayPe+DV",
      "include_colab_link": true
    },
    "kernelspec": {
      "name": "python3",
      "display_name": "Python 3"
    },
    "language_info": {
      "name": "python"
    }
  },
  "cells": [
    {
      "cell_type": "markdown",
      "metadata": {
        "id": "view-in-github",
        "colab_type": "text"
      },
      "source": [
        "<a href=\"https://colab.research.google.com/github/furkanyilmaz61/gumushane_eem_eesec440./blob/main/classification_2d.ipynb\" target=\"_parent\"><img src=\"https://colab.research.google.com/assets/colab-badge.svg\" alt=\"Open In Colab\"/></a>"
      ]
    },
    {
      "cell_type": "markdown",
      "metadata": {
        "id": "jVIRjzOm6okb"
      },
      "source": [
        "En başta kütüphaneleri dahil ediyoruz.\n",
        "\n",
        "First we import the libraries."
      ]
    },
    {
      "cell_type": "code",
      "metadata": {
        "id": "95pgT3Os6zOn"
      },
      "source": [
        "In [21]:\n",
        "import tensorflow as tf # Google tarafından geliştirilen TF kütüphanesi, en ciddi rakibi Facebook tarfından geliştirilen Pytorch kütüphanesi\n",
        "import matplotlib.pyplot as plt # grafik çizdirmek için\n",
        "import numpy as np # numerical python kütüphanesi\n",
        "import pandas as pd\n",
        "import sys\n",
        "from numpy import random # rasgele veri üretmek için kullanacağımız kütüphane"
      ],
      "execution_count": null,
      "outputs": []
    },
    {
      "cell_type": "markdown",
      "metadata": {
        "id": "g6B1yQu87LA7"
      },
      "source": [
        "Bugün bakacağımız örnekte kendimiz sentetik 2-boyutlu veri üretip ardından bu veriyi etiketleyeceğiz. Üreteceğimiz 2-boyutlu veri toplam n=1000 tane olacak. Bu veri kartezyen koordinat sistemi üzerinde x ve y eksenlerinde -1'den 1'e kadar yer alan aralıkta değer alan rasgele noktalar şeklinde düşünülebilir. Kartezyen koordinat sisteminde x ekseni x1, y ekseni ise x2 isimlendirilecek. Burada x = (x1, x2)T bizim özellik vektörümüz."
      ]
    },
    {
      "cell_type": "code",
      "metadata": {
        "id": "BARgx7-H7LwT"
      },
      "source": [
        "In [22]:\n",
        "n = 1000 # veri sayısı n = 20 (n = 1000 bu örnek için iyi bir seçim)\n",
        "x = 2*random.rand(n,2)-1\n",
        "#print(x)\n",
        "#print(x[0,1])"
      ],
      "execution_count": null,
      "outputs": []
    },
    {
      "cell_type": "markdown",
      "metadata": {
        "id": "vSj2wD4U7Qv5"
      },
      "source": [
        "Rasgele ürettiğimiz veriyi şimdi çizdirelim.\n",
        "\n",
        "Now let's plot the randomly generated 2d data."
      ]
    },
    {
      "cell_type": "code",
      "metadata": {
        "id": "_vLsLo5I7RUl"
      },
      "source": [
        "In [23]:\n",
        "plt.scatter(x[:,0],x[:,1], marker='.', color='b')\n",
        "# plt.legend(loc='upper right')\n",
        "plt.title(\"Generated 2d data\")\n",
        "plt.xlabel(\"x1\")\n",
        "plt.ylabel(\"x2\")"
      ],
      "execution_count": null,
      "outputs": []
    },
    {
      "cell_type": "markdown",
      "metadata": {
        "id": "1LX-tvzS7dqa"
      },
      "source": [
        "Şimdi hedef verisini (target data) oluşturalım. Yani ürettiğimiz veriyi etiketleyelim (data annotation). Sınıflandırmayı dilediğimiz gibi yapabiliriz bu örnekte. Burada biz birim çember içersinde yer alan noktaları 1, dışında kalan noktaları 0 olarak etiketleyeceğiz."
      ]
    },
    {
      "cell_type": "code",
      "metadata": {
        "id": "WVJ1x3WH7et0"
      },
      "source": [
        "In [24]:\n",
        "t = np.zeros((n,1))\n",
        "#print(t)\n",
        "for i, point in enumerate(x):\n",
        "  if (point[0]**2 + point[1]**2) >= 1:\n",
        "    t[i] = 1\n",
        "#print(\"Güncellenmiş hedef verisini yazdıralım.\")\n",
        "#print(t)"
      ],
      "execution_count": null,
      "outputs": []
    },
    {
      "cell_type": "markdown",
      "metadata": {
        "id": "rv_euorZ7hJK"
      },
      "source": [
        "Şimdi tekrar 2b veriyi görselleştirelim ama bu sefer birim çemberin içinde kalan veriyi (yani 1 etiketine sahip olan noktaları) kırmızı renkte çizdirelim."
      ]
    },
    {
      "cell_type": "code",
      "metadata": {
        "id": "xfwp9_uK7kIL"
      },
      "source": [
        "In [25]:\n",
        "for i, label in enumerate(t):\n",
        "  if (label):\n",
        "    plt.scatter(x[i,0],x[i,1], marker='.', color='r') # edgecolors='none'\n",
        "  else:\n",
        "    plt.scatter(x[i,0],x[i,1], marker='.', color='b') # edgecolors='none'\n",
        "plt.title(\"Generated 2d data\")\n",
        "plt.xlabel(\"x1\")\n",
        "plt.ylabel(\"x2\")"
      ],
      "execution_count": null,
      "outputs": []
    },
    {
      "cell_type": "markdown",
      "metadata": {
        "id": "J-TiwJv77nwK"
      },
      "source": [
        "TF kütüphanesinin içerisinde yer alan Keras kütüphanesiyle bir tane çok katmanlı sinir ağı (multi-layer perceptron - MLP) oluşturalım. Giriş sayısının iki, çıkış sayısının bir olduğunu, gizli katman (hidden layer) sayısını ve bu katmanlardaki nöron sayısını (number of neurons) ve de hangi aktivasyon fonksiyonunu (activation function) kullandığımızı adım adım seçeceğiz."
      ]
    },
    {
      "cell_type": "code",
      "metadata": {
        "id": "fwUZS4X67qtK"
      },
      "source": [
        "In [26]:\n",
        "model = tf.keras.models.Sequential(layers=None, name='2d_classifier_MLP')\n",
        "model.add(tf.keras.layers.Dense(20, input_dim = 2, activation = 'tanh', name='HL1'))\n",
        "model.add(tf.keras.layers.Dense(30, activation = 'tanh', name='HL2'))\n",
        "model.add(tf.keras.layers.Dense(40, activation = 'tanh', name='HL3'))\n",
        "model.add(tf.keras.layers.Dense(30, activation = 'tanh', name='HL4'))\n",
        "model.add(tf.keras.layers.Dense(1, activation = 'tanh', name='outputLayer'))"
      ],
      "execution_count": null,
      "outputs": []
    },
    {
      "cell_type": "markdown",
      "metadata": {
        "id": "fWQASLfr7tEc"
      },
      "source": [
        "Yukarıdaki kodda yapay sinir ağımızın yapısını (structure) yani katman sayısı, katmanlardaki nöron miktarı, nöron çıkışlarında kullanılan aktivasyon fonksiyon tiplerini belirledik. Bir sonraki adım olarak öğrenme (learning) işlemini başlatacağız. Şimdi öğrenme işleminin nasıl olacağını belirleyelim."
      ]
    },
    {
      "cell_type": "code",
      "metadata": {
        "id": "W54PPOH67vOd"
      },
      "source": [
        "In [27]:\n",
        "model.compile(optimizer='adam', loss='mean_squared_error', metrics='accuracy')\n",
        "model.summary()"
      ],
      "execution_count": null,
      "outputs": []
    },
    {
      "cell_type": "markdown",
      "metadata": {
        "id": "utLIc6Ut7yjk"
      },
      "source": [
        "Son olarak konfigürasyonunu tamamladığımız çok katmanlı yapay sinir ağının eğitimini başlatıyoruz."
      ]
    },
    {
      "cell_type": "code",
      "metadata": {
        "id": "meL--0gA8s96"
      },
      "source": [
        "In [28]:\n",
        "history = model.fit(x, t, epochs=200, verbose=1, validation_split=0.2)"
      ],
      "execution_count": null,
      "outputs": []
    },
    {
      "cell_type": "code",
      "metadata": {
        "id": "GDJ9Pir982sJ"
      },
      "source": [
        "In [29]:\n",
        "lossCurve = history.history[\"loss\"]\n",
        "plt.plot(lossCurve, label=\"Train\")\n",
        "# plt.legend(loc='upper right')\n",
        "plt.title(\"Loss function\")\n",
        "plt.xlabel(\"epoch number\")"
      ],
      "execution_count": null,
      "outputs": []
    },
    {
      "cell_type": "code",
      "metadata": {
        "id": "xIitt8Hy83O1"
      },
      "source": [
        "In [30]:\n",
        "accuracyCurve = history.history[\"accuracy\"]\n",
        "plt.plot(accuracyCurve, label=\"Accuracy\")\n",
        "# plt.legend(loc='upper right')\n",
        "plt.ylabel(\"accuracy\")\n",
        "plt.xlabel(\"epoch number\")"
      ],
      "execution_count": null,
      "outputs": []
    },
    {
      "cell_type": "markdown",
      "metadata": {
        "id": "g9BTqBY088fg"
      },
      "source": [
        "Şimdi eğitimi tamamlanmış çok katmanlı yapay sinir ağımızı test edelim."
      ]
    },
    {
      "cell_type": "code",
      "metadata": {
        "id": "XJcO2JZm8_6b"
      },
      "source": [
        "In [32]:\n",
        "y = model.predict(x).round()\n",
        "plt.scatter(x[:,0],x[:,1], marker='.', color='b')\n",
        "# plt.legend(loc='upper right')\n",
        "plt.title(\"Generated 2d data\")\n",
        "plt.xlabel(\"x1\")\n",
        "plt.ylabel(\"x2\")\n",
        "\n",
        "for i, label in enumerate(t):\n",
        "  if (label != y[i]):\n",
        "    plt.scatter(x[i,0],x[i,1], marker='o', color='r') # edgecolors='none'\n",
        "plt.title(\"Generated 2d data\")\n",
        "plt.xlabel(\"x1\")\n",
        "plt.ylabel(\"x2\")"
      ],
      "execution_count": null,
      "outputs": []
    }
  ]
}